{
 "cells": [
  {
   "cell_type": "markdown",
   "metadata": {},
   "source": [
    "# Алгоритмы интеллектуальной обработки больших объемов данных\n",
    "## Домашнее задание №2 - Дерево решений\n"
   ]
  },
  {
   "cell_type": "markdown",
   "metadata": {},
   "source": [
    "**Общая информация**\n",
    "\n",
    "**Срок сдачи:** до 27 марта 2018, 06:00   \n",
    "**Штраф за опоздание:** -2 балла после 06:00 27 марта, -4 балла после 06:00 3 апреля, -6 баллов после 06:00 10 апреля\n",
    "\n",
    "При отправлении ДЗ указывайте фамилию в названии файла   \n",
    "\n",
    "\n",
    "Присылать ДЗ необходимо в виде ссылки на свой github репозиторий в slack @alkhamush\n",
    "Необходимо в slack создать таск в приватный чат:   \n",
    "/todo Фамилия Имя *ссылка на гитхаб* @alkhamush   \n",
    "Пример:   \n",
    "/todo Ксения Стройкова https://github.com/stroykova/spheremailru/stroykova_hw2.ipynb @alkhamush   \n",
    "\n",
    "Используйте данный Ipython Notebook при оформлении домашнего задания."
   ]
  },
  {
   "cell_type": "markdown",
   "metadata": {},
   "source": [
    "###### Задание 1 (2 баллов)\n",
    "Разберитесь в коде MyDecisionTreeClassifier, который уже частично реализован. В комментариях, где написано \"Что делает этот блок кода?\", ответьте на этот вопрос. Допишите код там, где написано \"Ваш код\". Ваша реализация дерева должна работать по точности не хуже DecisionTreeClassifier из sklearn. Точность проверяется на wine и Speed Dating Data.\n",
    "\n",
    "###### Задание 2 (2 балла)\n",
    "Добиться скорости работы на fit сравнимой со sklearn wine и Speed Dating Data. \n",
    "Для этого используем numpy. \n",
    "\n",
    "###### Задание 3 (2 балла)\n",
    "Продемонстрируйте умение работать с Pipeline на данных Speed Dating Data и DecisionTreeClassifier. Нужно в pipeline произвести все необходимые преобразования данных и в конце обучить модель. Задание реализуйте под пунктом Задание 3 (уже написано ниже)\n",
    "\n",
    "###### Задание 4 (2 балла)\n",
    "Добавьте функционал, который определяет значения feature importance. Выведите 10 главных фичей под пунктом Задание 4 (уже написано ниже) для MyDecisionTreeClassifier и DecisionTreeClassifier так, чтобы сразу были видны выводы и по MyDecisionTreeClassifier, и по DecisionTreeClassifier. Используем данные Speed Dating Data.\n",
    "\n",
    "###### Задание 5 (2 балла)\n",
    "С помощью GridSearchCV или RandomSearchCV подберите наиболее оптимальные параметры для случайного леса (Выберете 2-3 параметра). Используем данные Speed Dating Data. Задание реализуйте под пунктом Задание 5 (уже написано ниже)\n",
    "\n",
    "\n",
    "**Штрафные баллы:**\n",
    "\n",
    "1. Невыполнение PEP8 -1 балл\n",
    "2. Отсутствие фамилии в имени скрипта (скрипт должен называться по аналогии со stroykova_hw2.ipynb) -1 балл\n",
    "3. Все строчки должны быть выполнены. Нужно, чтобы output команды можно было увидеть уже в git'е. В противном случае -1 балл\n",
    "4. При оформлении ДЗ нужно пользоваться данным файлом в качестве шаблона. Не нужно удалять и видоизменять написанный код и текст. В противном случае -1 балл"
   ]
  },
  {
   "cell_type": "code",
   "execution_count": 1,
   "metadata": {},
   "outputs": [],
   "source": [
    "import matplotlib.pyplot as plt\n",
    "import numpy as np\n",
    "import pandas as pd\n",
    "\n",
    "from sklearn.datasets import load_wine\n",
    "from sklearn.ensemble import RandomForestClassifier\n",
    "from sklearn.metrics import accuracy_score, f1_score\n",
    "from sklearn.model_selection import KFold, train_test_split, GridSearchCV\n",
    "from sklearn.model_selection import RandomizedSearchCV\n",
    "from sklearn.tree import DecisionTreeClassifier\n",
    "from sklearn.pipeline import Pipeline\n",
    "\n",
    "%matplotlib inline\n",
    "%load_ext pycodestyle_magic"
   ]
  },
  {
   "cell_type": "code",
   "execution_count": 2,
   "metadata": {},
   "outputs": [],
   "source": [
    "#%%pycodestyle\n",
    "#\n",
    "class MyDecisionTreeClassifier:\n",
    "    NON_LEAF_TYPE = 0\n",
    "    LEAF_TYPE = 1\n",
    "\n",
    "    def __init__(self, min_samples_split=2, max_depth=None,\n",
    "                 sufficient_share=1.0, criterion='gini', max_features=None):\n",
    "        self.tree = dict()\n",
    "        self.min_samples_split = min_samples_split\n",
    "        self.max_depth = max_depth\n",
    "        self.sufficient_share = sufficient_share\n",
    "        self.num_class = -1\n",
    "        self.feature_importances_ = None\n",
    "        if criterion == 'gini':\n",
    "            self.G_function = self.__gini\n",
    "            self.importance_G_function = self.__importance_gini\n",
    "        elif criterion == 'entropy':\n",
    "            self.G_function = self.__entropy\n",
    "            self.importance_G_function = self.__importance_entropy\n",
    "        elif criterion == 'misclass':\n",
    "            self.G_function = self.__misclass\n",
    "            self.importance_G_function = self.__importance_misclass\n",
    "        else:\n",
    "            print('invalid criterion name')\n",
    "            raise\n",
    "\n",
    "        if max_features == 'sqrt':\n",
    "            self.get_feature_ids = self.__get_feature_ids_sqrt\n",
    "        elif max_features == 'log2':\n",
    "            self.get_feature_ids = self.__get_feature_ids_log2\n",
    "        elif max_features is None:\n",
    "            self.get_feature_ids = self.__get_feature_ids_N\n",
    "        else:\n",
    "            print('invalid max_features name')\n",
    "            raise\n",
    "\n",
    "    def __gini(self, l_c, l_s, r_c, r_s):\n",
    "        l_s = l_s.astype('float')\n",
    "        r_s = r_s.astype('float')\n",
    "\n",
    "        return 1 - np.sum((l_c ** 2 / l_s) + (r_c ** 2 / r_s), axis=1)\n",
    "\n",
    "    def __entropy(self, l_c, l_s, r_c, r_s):\n",
    "        l-np.sum((l_c * np.log(l_c / l_s)) + (r_c * np.log(r_c / r_s)),\n",
    "                 axis=1).reshape(-1, 1) / (l_s + r_s)\n",
    "\n",
    "    def __misclass(self, l_c, l_s, r_c, r_s):\n",
    "        return 1 - (l_c.max(axis=1) + r_c.max(axis=1)) / (l_s + r_s).ravel()\n",
    "\n",
    "    def __get_feature_ids_sqrt(self, n_feature):\n",
    "        feature_ids = range(n_feature)\n",
    "        np.random.shuffle(feature_ids)\n",
    "\n",
    "        return feature_ids[:int(np.sqrt(n_feature))]  # Ваш код в 1 строчку\n",
    "\n",
    "    def __get_feature_ids_log2(self, n_feature):\n",
    "        feature_ids = range(n_feature)\n",
    "        np.random.shuffle(feature_ids)\n",
    "\n",
    "        return feature_ids[:int(np.log2(n_feature))]  # Ваш код в 1 строчку\n",
    "\n",
    "    def __get_feature_ids_N(self, n_feature):\n",
    "        return range(n_feature)  # Ваш код\n",
    "\n",
    "    def __sort_samples(self, x, y):\n",
    "        sorted_idx = x.argsort()\n",
    "        return x[sorted_idx], y[sorted_idx]\n",
    "\n",
    "    def __div_samples(self, x, y, feature_id, threshold):\n",
    "        left_mask = x[:, feature_id] > threshold\n",
    "        right_mask = ~left_mask\n",
    "        return x[left_mask], x[right_mask], y[left_mask], y[right_mask]\n",
    "\n",
    "    def __find_threshold(self, x, y):\n",
    "        # Что делает этот блок кода?\n",
    "        # sorted_x - отсортированный x,\n",
    "        # sorted_x - значения y, соответствующие отсортированным x из sorted_x,\n",
    "        sorted_x, sorted_y = self.__sort_samples(x, y)\n",
    "\n",
    "        # Что делает этот блок кода?\n",
    "        # Исключаются минимальные и максимальные значения\n",
    "        # Проверка того, что в каждом классе окажется как минимум\n",
    "        # min_sample_split элементов\n",
    "        # Определяются индексы, для которых номер класса отличается от номера\n",
    "        # класса соседнего элемента\n",
    "        splitted_sorted_y = sorted_y[self.min_samples_split:-\n",
    "                                     self.min_samples_split]\n",
    "        r_border_ids = np.where(\n",
    "            splitted_sorted_y[:-1] != splitted_sorted_y[1:])[0] \\\n",
    "            + (self.min_samples_split + 1)\n",
    "\n",
    "        if len(r_border_ids) == 0:\n",
    "            return float('+inf'), None\n",
    "\n",
    "        # Что делает этот блок кода?\n",
    "        # eq_el_count - число подряд идущих одинаковых эелементов\n",
    "        # (за исключением последней группы)\n",
    "        # one_hot_code - матрица принадлжености группы элементов\n",
    "        # (отрезка) к классу\n",
    "        # one_hot_code[i, j] == 1, если i-му отрезку соответствует класс j\n",
    "        # class_increments[i, j] == n, если i-й отрезок содержит n элементов\n",
    "        # класса j\n",
    "        eq_el_count = r_border_ids - \\\n",
    "            np.append([self.min_samples_split], r_border_ids[:-1])\n",
    "        one_hot_code = np.zeros(\n",
    "            (r_border_ids.shape[0], self.num_class))\n",
    "        one_hot_code[np.arange(r_border_ids.shape[0]),\n",
    "                     sorted_y[r_border_ids - 1]] = 1\n",
    "        class_increments = one_hot_code * eq_el_count.reshape(-1, 1)\n",
    "        class_increments[0] = class_increments[0] + np.bincount(\n",
    "            sorted_y[:self.min_samples_split], minlength=self.num_class)\n",
    "\n",
    "        # Что делает этот блок кода?\n",
    "        # l_class_count - число элементов каждого класса,\n",
    "        # которое попадет в левую часть разбиения\n",
    "        # r_class_count - число элементов каждого класса,\n",
    "        # которое попадет в правую часть разбиения\n",
    "        # l_sizes - мощность левого класса разбиения\n",
    "        # r_sizes - мощность правого класса разбиения\n",
    "        l_class_count = np.cumsum(class_increments, axis=0)\n",
    "        r_class_count = np.bincount(\n",
    "            y, minlength=self.num_class) - l_class_count\n",
    "        l_sizes = r_border_ids.reshape(l_class_count.shape[0], 1)\n",
    "        r_sizes = sorted_y.shape[0] - l_sizes\n",
    "\n",
    "        # Что делает этот блок кода?\n",
    "        # Вычисляем impurity measure для каждого разбиения\n",
    "        # Находим разбиение, для которого impurity measure->min\n",
    "        # (т.е. граница минимизирует impurity measure)\n",
    "        # (оптимальное разбиение)\n",
    "        gs = self.G_function(l_class_count, l_sizes, r_class_count, r_sizes)\n",
    "        idx = np.argmin(gs)\n",
    "\n",
    "        # Что делает этот блок кода?\n",
    "        # left_el_id - id элемента, с которого начинается\n",
    "        # правый класс разбиения\n",
    "        # Возвращаем impurity measure и усредненное значение threshold\n",
    "        left_el_id = l_sizes[idx][0]\n",
    "        return gs[idx], (sorted_x[left_el_id - 1] + sorted_x[left_el_id]) / 2.0\n",
    "\n",
    "    def __importance_gini(self, y):\n",
    "        _, cnt = np.unique(y, return_counts=True)\n",
    "        return len(y) * (1 - np.sum((cnt / len(y)) ** 2))\n",
    "\n",
    "    def __importance_entropy(self, y):\n",
    "        _, cnt = np.unique(y, return_counts=True)\n",
    "        return -len(y) * np.sum((cnt / len(y)) * np.log2(counts / len(y)))\n",
    "\n",
    "    def __importance_misclass(self, y):\n",
    "        _, cnt = np.unique(y, return_counts=True)\n",
    "        return len(y) * (1 - np.max(cnt / len(y)))\n",
    "\n",
    "    def __fit_node(self, x, y, node_id, depth, pred_f=-1):\n",
    "        # Ваш код\n",
    "        # Необходимо использовать следующее:\n",
    "        # self.LEAF_TYPE\n",
    "        # self.NON_LEAF_TYPE\n",
    "\n",
    "        # self.tree\n",
    "        # self.max_depth\n",
    "        # self.sufficient_share\n",
    "        # self.min_samples_split\n",
    "\n",
    "        # self.get_feature_ids\n",
    "        # self.__find_threshold\n",
    "        # self.__div_samples\n",
    "        # self.__fit_node\n",
    "        class_cnt = np.bincount(y)\n",
    "\n",
    "        if (self.max_depth is not None) and (depth >= self.max_depth) or \\\n",
    "                np.max(class_cnt / y.shape[0]) >= self.sufficient_share or \\\n",
    "                x.shape[0] <= 2 * self.min_samples_split + 1:\n",
    "            self.tree[node_id] = (self.LEAF_TYPE, class_cnt.argmax())\n",
    "            return\n",
    "\n",
    "        feature_ids = self.get_feature_ids(x.shape[1])\n",
    "\n",
    "        thresholds = np.empty(len(feature_ids))\n",
    "\n",
    "        gs = np.empty(len(feature_ids))\n",
    "\n",
    "        for i in feature_ids:\n",
    "            gs[i], thresholds[i] = self.__find_threshold(x[:, i], y)\n",
    "\n",
    "        best_feature = gs.argmin()\n",
    "        threshold = thresholds[best_feature]\n",
    "\n",
    "        if threshold is None:\n",
    "            self.tree[node_id] = (self.LEAF_TYPE, class_cnt.argmax())\n",
    "            return\n",
    "\n",
    "        x_l, x_r, y_l, y_r = self.__div_samples(x, y, best_feature, threshold)\n",
    "\n",
    "        if (x_l.shape[0] == 0) or (x_r.shape[0] == 0):\n",
    "            self.tree[node_id] = (self.LEAF_TYPE, class_cnt.argmax())\n",
    "            return\n",
    "\n",
    "        self.tree[node_id] = (self.NON_LEAF_TYPE, best_feature, threshold)\n",
    "\n",
    "        feature = np.argmin(gs)\n",
    "        self.feature_importances_[feature] += self.importance_G_function(y) - \\\n",
    "            self.importance_G_function(y_l) - self.importance_G_function(y_r)\n",
    "\n",
    "        self.__fit_node(x_l, y_l, 2 * node_id + 1, depth + 1)\n",
    "        self.__fit_node(x_r, y_r, 2 * node_id + 2, depth + 1)\n",
    "\n",
    "    def fit(self, x, y):\n",
    "        # self.num_class - общее число классов\n",
    "        self.num_class = np.unique(y).size\n",
    "        self.feature_importances_ = np.zeros(x.shape[1])\n",
    "        self.__fit_node(x, y, 0, 0)\n",
    "        self.feature_importances_ /= y.size\n",
    "\n",
    "    def __predict_class(self, x, node_id):\n",
    "        node = self.tree[node_id]\n",
    "        if node[0] == self.__class__.NON_LEAF_TYPE:\n",
    "            _, feature_id, threshold = node\n",
    "            if x[feature_id] > threshold:\n",
    "                return self.__predict_class(x, 2 * node_id + 1)\n",
    "            else:\n",
    "                return self.__predict_class(x, 2 * node_id + 2)\n",
    "        else:\n",
    "            return node[1]\n",
    "\n",
    "    def __predict_probs(self, x, node_id):\n",
    "        node = self.tree[node_id]\n",
    "        if node[0] == self.__class__.NON_LEAF_TYPE:\n",
    "            _, feature_id, threshold = node\n",
    "            if x[feature_id] > threshold:\n",
    "                return self.__predict_probs(x, 2 * node_id + 1)\n",
    "            else:\n",
    "                return self.__predict_probs(x, 2 * node_id + 2)\n",
    "        else:\n",
    "            return node[2]\n",
    "\n",
    "    def predict(self, X):\n",
    "        return np.array([self.__predict_class(x, 0) for x in X])\n",
    "\n",
    "    def predict_probs(self, X):\n",
    "        return np.array([self.__predict_probs(x, 0) for x in X])\n",
    "\n",
    "    def fit_predict(self, x_train, y_train, predicted_x):\n",
    "        self.fit(x_train, y_train)\n",
    "        return self.predict(predicted_x)"
   ]
  },
  {
   "cell_type": "code",
   "execution_count": 3,
   "metadata": {},
   "outputs": [],
   "source": [
    "my_clf = MyDecisionTreeClassifier(min_samples_split=2)\n",
    "clf = DecisionTreeClassifier(min_samples_split=2)"
   ]
  },
  {
   "cell_type": "code",
   "execution_count": 4,
   "metadata": {},
   "outputs": [],
   "source": [
    "wine = load_wine()\n",
    "X_train, X_test, y_train, y_test = train_test_split(\n",
    "    wine.data, wine.target, test_size=0.1, stratify=wine.target)"
   ]
  },
  {
   "cell_type": "markdown",
   "metadata": {},
   "source": [
    "## Проверка скорости работы на wine"
   ]
  },
  {
   "cell_type": "code",
   "execution_count": 5,
   "metadata": {
    "scrolled": true
   },
   "outputs": [
    {
     "name": "stdout",
     "output_type": "stream",
     "text": [
      "CPU times: user 4.38 ms, sys: 17 µs, total: 4.4 ms\n",
      "Wall time: 3.56 ms\n"
     ]
    },
    {
     "data": {
      "text/plain": [
       "DecisionTreeClassifier(class_weight=None, criterion='gini', max_depth=None,\n",
       "            max_features=None, max_leaf_nodes=None,\n",
       "            min_impurity_decrease=0.0, min_impurity_split=None,\n",
       "            min_samples_leaf=1, min_samples_split=2,\n",
       "            min_weight_fraction_leaf=0.0, presort=False, random_state=None,\n",
       "            splitter='best')"
      ]
     },
     "execution_count": 5,
     "metadata": {},
     "output_type": "execute_result"
    }
   ],
   "source": [
    "%time clf.fit(X_train, y_train)"
   ]
  },
  {
   "cell_type": "code",
   "execution_count": 6,
   "metadata": {
    "scrolled": false
   },
   "outputs": [
    {
     "name": "stdout",
     "output_type": "stream",
     "text": [
      "CPU times: user 54.8 ms, sys: 309 µs, total: 55.1 ms\n",
      "Wall time: 97.3 ms\n"
     ]
    }
   ],
   "source": [
    "%time my_clf.fit(X_train, y_train)"
   ]
  },
  {
   "cell_type": "markdown",
   "metadata": {},
   "source": [
    "## Проверка качества работы на wine"
   ]
  },
  {
   "cell_type": "code",
   "execution_count": 7,
   "metadata": {},
   "outputs": [
    {
     "data": {
      "text/plain": [
       "0.7395197395197396"
      ]
     },
     "execution_count": 7,
     "metadata": {},
     "output_type": "execute_result"
    }
   ],
   "source": [
    "f1_score(y_pred=clf.predict(X_test), y_true=y_test, average='macro')"
   ]
  },
  {
   "cell_type": "code",
   "execution_count": 8,
   "metadata": {
    "scrolled": true
   },
   "outputs": [
    {
     "data": {
      "text/plain": [
       "0.8407407407407407"
      ]
     },
     "execution_count": 8,
     "metadata": {},
     "output_type": "execute_result"
    }
   ],
   "source": [
    "f1_score(y_pred=my_clf.predict(X_test), y_true=y_test, average='macro')"
   ]
  },
  {
   "cell_type": "markdown",
   "metadata": {},
   "source": [
    "## Подготовка данных Speed Dating Data "
   ]
  },
  {
   "cell_type": "code",
   "execution_count": 21,
   "metadata": {},
   "outputs": [],
   "source": [
    "#%%pycodestyle\n",
    "\n",
    "speed_dating_csv = 'speed-dating-experiment/Speed Dating Data.csv'\n",
    "\n",
    "df = pd.read_csv(speed_dating_csv, encoding='cp1251')\n",
    "df = df.iloc[:, :97]\n",
    "\n",
    "columns = [\n",
    "    'iid', 'gender', 'pid', 'match', 'int_corr', 'samerace', 'age',\n",
    "    'field_cd', 'mn_sat', 'tuition', 'race', 'imprace', 'imprelig',\n",
    "    'income', 'goal', 'date', 'go_out', 'career_c', 'exphappy',\n",
    "    'amb1_1', 'amb2_1', 'amb3_1', 'amb4_1', 'amb5_1',\n",
    "    'attr1_1', 'attr2_1', 'attr3_1', 'attr4_1', 'attr5_1',\n",
    "    'fun1_1', 'fun2_1', 'fun3_1', 'fun4_1', 'fun5_1',\n",
    "    'intel1_1', 'intel2_1', 'intel3_1', 'intel4_1', 'intel5_1',\n",
    "    'shar1_1', 'shar2_1', 'shar4_1',\n",
    "    'sinc1_1', 'sinc2_1', 'sinc3_1', 'sinc4_1', 'sinc5_1'\n",
    "]\n",
    "\n",
    "df = df[columns]\n",
    "\n",
    "df = df.dropna(subset=['age', 'date', 'imprelig', 'imprace'])\n",
    "\n",
    "for col in ['career_c', 'field_cd']:\n",
    "    df.loc[:, col] = df.loc[:, col].fillna(0)\n",
    "\n",
    "for col in ['mn_sat', 'tuition', 'income']:\n",
    "    df.loc[:, col] = df.loc[:, col].str.replace(',', '').astype(np.float)\n",
    "    df.loc[:, col] = df[col].fillna(-999)\n",
    "\n",
    "sum_columns = ['attr', 'sinc', 'intel', 'fun', 'amb', 'shar']\n",
    "\n",
    "for i in range(1, 3):\n",
    "    col = [c+str(i)+'_1' for c in sum_columns]\n",
    "\n",
    "    df.loc[:, 'sum'] = df.loc[:, col].sum(axis=1)\n",
    "\n",
    "    df.loc[:, col] = 100 * (df.loc[:, col].T / df.loc[:, 'sum'].T).T\n",
    "\n",
    "df = df.drop(['sum'], axis=1)\n",
    "\n",
    "df_male = df.query('gender==1').drop_duplicates(subset=['iid', 'pid'])\n",
    "df_male = df_male.drop(['gender'], axis=1)\n",
    "df_male = df_male.dropna()\n",
    "\n",
    "df_female = df.query('gender==0').drop_duplicates(subset=['iid'])\n",
    "df_female = df_female.drop(['gender', 'match', 'int_corr', 'samerace'], axis=1)\n",
    "df_female = df_female.dropna()\n",
    "\n",
    "df_female.columns = df_female.columns + '_f'\n",
    "df_female = df_female.drop(['pid_f'], axis=1)\n",
    "\n",
    "df_mf = df_male.join(df_female.set_index('iid_f'), on='pid', how='inner')\n",
    "\n",
    "df_mf = df_mf.drop(['iid', 'pid'], axis=1)\n",
    "\n",
    "X = df_mf.iloc[:, 1:].values\n",
    "y = df_mf.iloc[:, 0].values"
   ]
  },
  {
   "cell_type": "code",
   "execution_count": 10,
   "metadata": {},
   "outputs": [],
   "source": [
    "#%%pycodestyle\n",
    "X_train, X_test, y_train, y_test = train_test_split(X, y, test_size=0.1)\n",
    "\n",
    "my_clf = MyDecisionTreeClassifier(min_samples_split=2)\n",
    "clf = DecisionTreeClassifier(min_samples_split=2)"
   ]
  },
  {
   "cell_type": "markdown",
   "metadata": {},
   "source": [
    "## Проверка скорости работы на Speed Dating Data "
   ]
  },
  {
   "cell_type": "code",
   "execution_count": 11,
   "metadata": {},
   "outputs": [
    {
     "name": "stdout",
     "output_type": "stream",
     "text": [
      "CPU times: user 104 ms, sys: 32 µs, total: 104 ms\n",
      "Wall time: 126 ms\n"
     ]
    },
    {
     "data": {
      "text/plain": [
       "DecisionTreeClassifier(class_weight=None, criterion='gini', max_depth=None,\n",
       "            max_features=None, max_leaf_nodes=None,\n",
       "            min_impurity_decrease=0.0, min_impurity_split=None,\n",
       "            min_samples_leaf=1, min_samples_split=2,\n",
       "            min_weight_fraction_leaf=0.0, presort=False, random_state=None,\n",
       "            splitter='best')"
      ]
     },
     "execution_count": 11,
     "metadata": {},
     "output_type": "execute_result"
    }
   ],
   "source": [
    "#%%pycodestyle\n",
    "%time clf.fit(X_train, y_train)"
   ]
  },
  {
   "cell_type": "code",
   "execution_count": 12,
   "metadata": {},
   "outputs": [
    {
     "name": "stdout",
     "output_type": "stream",
     "text": [
      "CPU times: user 1.57 s, sys: 7.79 ms, total: 1.58 s\n",
      "Wall time: 1.75 s\n"
     ]
    }
   ],
   "source": [
    "#%%pycodestyle\n",
    "%time my_clf.fit(X_train, y_train)"
   ]
  },
  {
   "cell_type": "markdown",
   "metadata": {},
   "source": [
    "## Проверка качества работы на Speed Dating Data"
   ]
  },
  {
   "cell_type": "code",
   "execution_count": 13,
   "metadata": {},
   "outputs": [
    {
     "data": {
      "text/plain": [
       "0.5867417135709818"
      ]
     },
     "execution_count": 13,
     "metadata": {},
     "output_type": "execute_result"
    }
   ],
   "source": [
    "#%%pycodestyle\n",
    "f1_score(y_pred=clf.predict(X_test), y_true=y_test, average='macro')"
   ]
  },
  {
   "cell_type": "code",
   "execution_count": 14,
   "metadata": {},
   "outputs": [
    {
     "data": {
      "text/plain": [
       "0.49643507676294557"
      ]
     },
     "execution_count": 14,
     "metadata": {},
     "output_type": "execute_result"
    }
   ],
   "source": [
    "#%%pycodestyle\n",
    "f1_score(y_pred=my_clf.predict(X_test), y_true=y_test, average='macro')"
   ]
  },
  {
   "cell_type": "markdown",
   "metadata": {},
   "source": [
    "## Задание 3"
   ]
  },
  {
   "cell_type": "code",
   "execution_count": 15,
   "metadata": {},
   "outputs": [
    {
     "data": {
      "text/plain": [
       "0.6086734693877551"
      ]
     },
     "execution_count": 15,
     "metadata": {},
     "output_type": "execute_result"
    }
   ],
   "source": [
    "#%%pycodestyle\n",
    "\n",
    "pipeline = Pipeline([\n",
    "    ('clf', DecisionTreeClassifier()),\n",
    "])\n",
    "\n",
    "pipeline.fit(X_train, y_train)\n",
    "\n",
    "f1_score(y_pred=pipeline.predict(X_test), y_true=y_test, average='macro')"
   ]
  },
  {
   "cell_type": "markdown",
   "metadata": {},
   "source": [
    "## Задание 4"
   ]
  },
  {
   "cell_type": "code",
   "execution_count": 16,
   "metadata": {},
   "outputs": [
    {
     "name": "stdout",
     "output_type": "stream",
     "text": [
      "DecisionTreeClassifier\n",
      "int_corr      0.064532\n",
      "fun1_1        0.026860\n",
      "tuition_f     0.026180\n",
      "amb4_1        0.023423\n",
      "sinc1_1       0.021604\n",
      "intel4_1_f    0.021127\n",
      "field_cd_f    0.021080\n",
      "sinc4_1       0.020798\n",
      "date          0.020526\n",
      "attr5_1       0.020200\n",
      "dtype: float64\n",
      "MyDecisionTreeClassifier\n",
      "go_out_f     0.003493\n",
      "tuition_f    0.002473\n",
      "mn_sat_f     0.002422\n",
      "shar4_1      0.001766\n",
      "sinc4_1      0.001690\n",
      "amb5_1       0.001654\n",
      "sinc3_1_f    0.001606\n",
      "fun4_1_f     0.001570\n",
      "amb4_1_f     0.001538\n",
      "mn_sat       0.001394\n",
      "dtype: float64\n"
     ]
    }
   ],
   "source": [
    "#%%pycodestyle\n",
    "\n",
    "DTC_model = DecisionTreeClassifier()\n",
    "DTC_model.fit(X_train, y_train)\n",
    "\n",
    "MY_DTC_model = MyDecisionTreeClassifier()\n",
    "MY_DTC_model.fit(X_train, y_train)\n",
    "\n",
    "features = df_mf.columns[1:]\n",
    "\n",
    "DTC_data = pd.Series(index=features, data=DTC_model.feature_importances_)\n",
    "MY_DTC_data = pd.Series(index=features, data=MY_DTC_model.feature_importances_)\n",
    "\n",
    "print('DecisionTreeClassifier')\n",
    "print(DTC_data.sort_values(ascending=False).head(10))\n",
    "\n",
    "print('MyDecisionTreeClassifier')\n",
    "print(MY_DTC_data.sort_values(ascending=False).head(10))\n"
   ]
  },
  {
   "cell_type": "code",
   "execution_count": 17,
   "metadata": {},
   "outputs": [
    {
     "name": "stdout",
     "output_type": "stream",
     "text": [
      "0.5936224489795918\n",
      "0.49643507676294557\n"
     ]
    }
   ],
   "source": [
    "#%%pycodestyle\n",
    "\n",
    "print(f1_score(y_pred=DTC_model.predict(X_test), y_true=y_test, average='macro'))\n",
    "print(f1_score(y_pred=MY_DTC_model.predict(X_test), y_true=y_test, average='macro'))"
   ]
  },
  {
   "cell_type": "markdown",
   "metadata": {},
   "source": [
    "## Задание 5"
   ]
  },
  {
   "cell_type": "code",
   "execution_count": 18,
   "metadata": {},
   "outputs": [
    {
     "name": "stdout",
     "output_type": "stream",
     "text": [
      "Best parameters: {'min_samples_split': 9, 'max_depth': 8, 'criterion': 'entropy'}\n"
     ]
    }
   ],
   "source": [
    "#%%pycodestyle\n",
    "\n",
    "parameters = {\n",
    "    \"min_samples_split\":range(2, 10),\n",
    "    \"max_depth\":range(1,10),\n",
    "    \"criterion\":[\"gini\", \"entropy\"]\n",
    "}\n",
    "\n",
    "grid_search_cv = RandomizedSearchCV(RandomForestClassifier(\n",
    "    n_estimators=10), parameters, n_iter=50)\n",
    "\n",
    "grid_search_cv.fit(X_train, y_train)\n",
    "\n",
    "print(\"Best parameters:\", grid_search_cv.best_params_)"
   ]
  }
 ],
 "metadata": {
  "kernelspec": {
   "display_name": "Python 3",
   "language": "python",
   "name": "python3"
  },
  "language_info": {
   "codemirror_mode": {
    "name": "ipython",
    "version": 3
   },
   "file_extension": ".py",
   "mimetype": "text/x-python",
   "name": "python",
   "nbconvert_exporter": "python",
   "pygments_lexer": "ipython3",
   "version": "3.6.3"
  }
 },
 "nbformat": 4,
 "nbformat_minor": 2
}
