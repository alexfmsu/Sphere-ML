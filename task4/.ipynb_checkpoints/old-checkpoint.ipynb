{
 "cells": [
  {
   "cell_type": "markdown",
   "metadata": {},
   "source": [
    "# Алгоритмы интеллектуальной обработки больших объемов данных\n",
    "## Домашнее задание №1 - Метод k-средних, предобработка признаков\n"
   ]
  },
  {
   "cell_type": "markdown",
   "metadata": {},
   "source": [
    "# <hr\\>\n",
    "**Общая информация**\n",
    "\n",
    "**Срок сдачи:** до 7 октября 2017, 06:00   \n",
    "**Штраф за опоздание:** -2 балла после 06:00 7 октября, -4 балла после 06:00 14 октября, -6 баллов после 06:00 21 октября\n",
    "\n",
    "При отправлении ДЗ указывайте фамилию в названии файла   \n",
    "\n",
    "\n",
    "Присылать ДЗ необходимо в виде ссылки на свой github репозиторий в slack @alkhamush\n",
    "Необходимо в slack создать таск в приватный чат:   \n",
    "/todo Фамилия Имя *ссылка на гитхаб* @alkhamush   \n",
    "Пример:   \n",
    "/todo Ксения Стройкова https://github.com/stroykova/spheremailru/stroykova_hw1.ipynb @alkhamush   \n",
    "\n",
    "Используйте данный Ipython Notebook при оформлении домашнего задания.\n",
    "<hr\\>"
   ]
  },
  {
   "cell_type": "code",
   "execution_count": 1,
   "metadata": {},
   "outputs": [],
   "source": [
    "import pandas as pd\n",
    "import numpy as np\n",
    "import matplotlib.pyplot as plt\n",
    "\n",
    "%matplotlib inline\n",
    "\n",
    "plt.style.use('ggplot')\n",
    "plt.rcParams['figure.figsize'] = (12,5)"
   ]
  },
  {
   "cell_type": "markdown",
   "metadata": {},
   "source": [
    "# Имплементация K-means\n",
    "\n",
    "Пользуясь наработками выше, имплементируйте метод k-means.  \n",
    "При инициализации необходимо задавать количество кластеров, функцию расстояния между кластерами (для оригинального k-means - евклидово расстояние) и начальное состояние генератора случайных чисел.\n",
    "\n",
    "После обучения, среди атрибутов класса `Kmeans` должны появится\n",
    "* Метки кластеров для объектов\n",
    "* Координаты центройдов кластеров\n",
    "\n",
    "k-means - это алгоритм **кластеризации**, а не классификации, а посему метод `.predict()` в нем фактически не нужен, но он может возвращать метки ближайшего кластера для объектов."
   ]
  },
  {
   "cell_type": "markdown",
   "metadata": {},
   "source": [
    "###### Задание 1 (2 баллов)\n",
    "Имплементируйте метод k-means\n",
    "\n",
    "Теория для выполнения задания 2 и 3 остаётся на самостоятельное изучение. Теории немного и она совсем простая.\n",
    "\n",
    "###### Задание 2 (2 балла)\n",
    "Имплементируйте класс MiniBatchKMeans, который является классом наследником Kmeans.\n",
    "\n",
    "###### Задание 3 (2 балла)\n",
    "Превратите k-means в k-means++. Для этого нужно реализовать метод в классе Kmeans, который будет инициализировать более \"хорошие\" значения центроидов. Чтобы использовался метод k-means++, в параметр init необходимо передать строковое значение 'k-means' (по умолчанию 'random').\n",
    "\n",
    "###### Задание 4 (2 балла)\n",
    "В пункте \"Проверка корректности метода\" нужно нарисовать графики, которые показывают зависимость времени выполнения алгоритма от количества сэмплов. Графики должны быть  нарисованы для различных комбинаций реализаций алгоритма (k-means, k-means++, k-means с MiniBatchKMeans, k-means++ с MiniBatchKMeans). Для этого рекомендуется использовать инструмент %timeit. График достаточно построить на 5-10 точках.\n",
    "\n",
    "###### Задание 5 (2 балла)\n",
    "В пункте \"Применение K-means на реальных данных\" нужно сравнить различные реализации k-means (k-means, k-means++, k-means с MiniBatchKMeans, k-means++ с MiniBatchKMeans). После чего написать вывод, в котором должно быть объяснение того, почему один алгоритм оказался лучше остальных или почему не было выявлено лучшего алгоритма."
   ]
  },
  {
   "cell_type": "code",
   "execution_count": 2,
   "metadata": {},
   "outputs": [],
   "source": [
    "from sklearn.base import BaseEstimator, ClusterMixin\n",
    "\n",
    "import sklearn.metrics as metrics\n",
    "\n",
    "class Kmeans(BaseEstimator, ClusterMixin): \n",
    "    \n",
    "    def __init__(self, k=2, metric='euclidean', max_iter=1000, random_state=None, init='random', min_eps=1e-4):\n",
    "        \"\"\"\n",
    "        Инициализация метода\n",
    "        :k - количество кластеров\n",
    "        :metric - функция расстояния между объектами\n",
    "        :max_iter - максиальное количество итераций\n",
    "        :random_state - seed для инициализации генератора случайных чисел\n",
    "        \"\"\"\n",
    "        \n",
    "        self.k = k\n",
    "        self.random_state = random_state\n",
    "        self.metric = metric\n",
    "        self.max_iter = max_iter\n",
    "        self.init = init\n",
    "        self.min_eps = min_eps\n",
    "        \n",
    "    def randomize(self, choices):\n",
    "        p = 0\n",
    "        \n",
    "        rand = np.random.uniform(0, sum(choices))\n",
    "        \n",
    "        for i in range(choices.shape[0]):\n",
    "            if p + choices[i] >= rand:\n",
    "                return i\n",
    "            \n",
    "            p += choices[i]\n",
    "    \n",
    "    def init_centroids(self, X):\n",
    "        if self.init == 'random':\n",
    "            for i in range(self.k):\n",
    "                self.centroids[i] = X[np.random.randint(X.shape[0])]       \n",
    "        else:\n",
    "            self.centroids[0] = X[np.random.randint(X.shape[0])]\n",
    "            \n",
    "            for i in range(1, self.k):\n",
    "                Y = metrics.pairwise_distances(self.centroids[:i], X, metric=self.metric)\n",
    "                \n",
    "                distances_min = np.min(Y, axis=0)\n",
    "                \n",
    "                self.centroids[i] = X[self.randomize(distances_min)]\n",
    "                \n",
    "\n",
    "    def fit(self, X, y=None):\n",
    "        \"\"\"\n",
    "        Процедура обучения k-means\n",
    "        \"\"\"\n",
    "        \n",
    "        # Инициализация генератора случайных чисел\n",
    "        np.random.seed(self.random_state)\n",
    "        \n",
    "        # Массив с метками кластеров для каждого объекта из X\n",
    "        self.labels = np.empty(X.shape[0])\n",
    "        \n",
    "        # Массивы с центроидами кластеров\n",
    "        self.centroids = np.empty((self.k, X.shape[1]))\n",
    "        self.new_centroids = np.empty((self.k, X.shape[1]))\n",
    "        \n",
    "        self.init_centroids(X)\n",
    "        \n",
    "        eps = 1\n",
    "        \n",
    "        i = 0\n",
    "        \n",
    "        while (i < self.max_iter) and (eps > self.min_eps):\n",
    "            i += 1\n",
    "            \n",
    "            Y = metrics.pairwise_distances(self.centroids, X, metric=self.metric)\n",
    "            \n",
    "            self.labels = np.argmin(Y, axis=0)\n",
    "            \n",
    "            for label in range(self.k):\n",
    "                self.new_centroids[label] = sum(X[label == self.labels]) / len(X[label == self.labels])\n",
    "                \n",
    "            dist_centroids = metrics.pairwise_distances(self.centroids, self.new_centroids, metric=self.metric)\n",
    "            \n",
    "            self.centroids = self.new_centroids\n",
    "            \n",
    "            eps = max(dist_centroids.diagonal())\n",
    "        \n",
    "        return self\n",
    "\n",
    "    def predict(self, X, y=None):\n",
    "        \"\"\"\n",
    "        Процедура предсказания кластера\n",
    "        \n",
    "        Возвращает метку ближайшего кластера для каждого объекта\n",
    "        \"\"\"\n",
    "        \n",
    "        Y = metrics.pairwise_distances(self.centroids, X, metric=self.metric)\n",
    "        \n",
    "        return np.argmin(Y, axis=0)\n",
    "\n",
    "    \n",
    "class MiniBatchKMeans(Kmeans):\n",
    "    \n",
    "    def __init__(self, k=2, metric='euclidean', max_iter=1000, random_state=None, init='random', min_eps=1e-4, batch_k=0.1):\n",
    "        self.batch_k = batch_k\n",
    "        \n",
    "        Kmeans.__init__(self, k, metric, max_iter, random_state, init, min_eps)\n",
    "        \n",
    "    def fit(self, X, y=None):\n",
    "        \n",
    "        # Инициализация генератора случайных чисел\n",
    "        np.random.seed(self.random_state)\n",
    "        \n",
    "        batch_size = int(self.batch_k * X.shape[0])\n",
    "        \n",
    "        # Массив с метками кластеров для каждого объекта\n",
    "        self.labels = np.empty(batch_size)\n",
    "        \n",
    "        # Массивы с центроидами кластеров\n",
    "        self.centroids = np.empty((self.k, X.shape[1]))\n",
    "        self.new_centroids = np.empty((self.k, X.shape[1]))\n",
    "        \n",
    "        self.init_centroids(X)\n",
    "        \n",
    "        label_points = np.zeros(shape=(self.k))\n",
    "        \n",
    "        eps = 1\n",
    "        \n",
    "        i = 0\n",
    "        \n",
    "        while (i < self.max_iter) and (eps > self.min_eps):\n",
    "            i += 1\n",
    "            \n",
    "            batch = X[np.random.randint(X.shape[0], size = batch_size)]\n",
    "            \n",
    "            Y = metrics.pairwise_distances(self.centroids, batch, metric=self.metric)\n",
    "\n",
    "            self.labels = np.argmin(Y, axis=0)\n",
    "            \n",
    "            for j in range(batch_size):\n",
    "                label = self.labels[j]\n",
    "                \n",
    "                label_points[label] += 1\n",
    "                \n",
    "                k = 1.0 / label_points[label]\n",
    "                \n",
    "                self.new_centroids[label] = k * batch[j] + (1 - k) * self.centroids[label]\n",
    "                \n",
    "            dist_centroids = metrics.pairwise_distances(self.centroids, self.new_centroids, metric=self.metric)\n",
    "            \n",
    "            self.centroids = self.new_centroids\n",
    "            \n",
    "            eps = max(dist_centroids.diagonal())\n",
    "        \n",
    "        return self"
   ]
  },
  {
   "cell_type": "markdown",
   "metadata": {},
   "source": [
    "### Проверка корректности метода\n",
    "\n",
    "Перед тем как применять алгоритм на реальных данных, нужно испытать его на простых \"игрушечных\" данных.\n",
    "\n",
    "Если алгоритм реализован правильно, то метод должен идеально разбивать на 3 кластера данные ниже. Проверьте это.\n",
    "\n",
    "ВНИМАНИЕ! Проверка должна быть осуществлена на всех реализациях, иначе реализация не будет зачтена!"
   ]
  },
  {
   "cell_type": "code",
   "execution_count": 3,
   "metadata": {},
   "outputs": [],
   "source": [
    "from sklearn.datasets import make_blobs"
   ]
  },
  {
   "cell_type": "code",
   "execution_count": 4,
   "metadata": {},
   "outputs": [],
   "source": [
    "X, y = make_blobs(n_samples=100, n_features=2, centers=3, cluster_std=1, \n",
    "           center_box=(-10.0, 10.0), shuffle=False, random_state=1234)"
   ]
  },
  {
   "cell_type": "code",
   "execution_count": 5,
   "metadata": {},
   "outputs": [
    {
     "data": {
      "text/plain": [
       "<matplotlib.collections.PathCollection at 0x7fa91bb4ccc0>"
      ]
     },
     "execution_count": 5,
     "metadata": {},
     "output_type": "execute_result"
    },
    {
     "data": {
      "image/png": "[encoded data removed]",
      "text/plain": [
       "<Figure size 432x288 with 1 Axes>"
      ]
     },
     "metadata": {},
     "output_type": "display_data"
    }
   ],
   "source": [
    "plt.scatter(X[:,0], X[:, 1], c=y)"
   ]
  },
  {
   "cell_type": "markdown",
   "metadata": {},
   "source": [
    "Проверьте Вашу имплементацию на простых данных (без этого пункта задание не считается выполненным).   \n",
    "КОММЕНТАРИИ НЕ СТИРАТЬ!"
   ]
  },
  {
   "cell_type": "code",
   "execution_count": 6,
   "metadata": {},
   "outputs": [
    {
     "ename": "NameError",
     "evalue": "name 'xrange' is not defined",
     "output_type": "error",
     "traceback": [
      "\u001b[0;31m---------------------------------------------------------------------------\u001b[0m",
      "\u001b[0;31mNameError\u001b[0m                                 Traceback (most recent call last)",
      "\u001b[0;32m<ipython-input-6-db05fe3b427a>\u001b[0m in \u001b[0;36m<module>\u001b[0;34m()\u001b[0m\n\u001b[1;32m      1\u001b[0m \u001b[0;31m## Работоспособность KMeans\u001b[0m\u001b[0;34m\u001b[0m\u001b[0;34m\u001b[0m\u001b[0m\n\u001b[1;32m      2\u001b[0m \u001b[0mkmeans\u001b[0m \u001b[0;34m=\u001b[0m \u001b[0mKmeans\u001b[0m\u001b[0;34m(\u001b[0m\u001b[0mk\u001b[0m \u001b[0;34m=\u001b[0m \u001b[0;36m3\u001b[0m\u001b[0;34m,\u001b[0m \u001b[0mrandom_state\u001b[0m\u001b[0;34m=\u001b[0m\u001b[0;36m2\u001b[0m\u001b[0;34m)\u001b[0m\u001b[0;34m\u001b[0m\u001b[0m\n\u001b[0;32m----> 3\u001b[0;31m \u001b[0mkmeans\u001b[0m\u001b[0;34m.\u001b[0m\u001b[0mfit\u001b[0m\u001b[0;34m(\u001b[0m\u001b[0mX\u001b[0m\u001b[0;34m)\u001b[0m\u001b[0;34m\u001b[0m\u001b[0m\n\u001b[0m\u001b[1;32m      4\u001b[0m \u001b[0;34m\u001b[0m\u001b[0m\n\u001b[1;32m      5\u001b[0m \u001b[0mplt\u001b[0m\u001b[0;34m.\u001b[0m\u001b[0mscatter\u001b[0m\u001b[0;34m(\u001b[0m\u001b[0mX\u001b[0m\u001b[0;34m[\u001b[0m\u001b[0;34m:\u001b[0m\u001b[0;34m,\u001b[0m\u001b[0;36m0\u001b[0m\u001b[0;34m]\u001b[0m\u001b[0;34m,\u001b[0m \u001b[0mX\u001b[0m\u001b[0;34m[\u001b[0m\u001b[0;34m:\u001b[0m\u001b[0;34m,\u001b[0m \u001b[0;36m1\u001b[0m\u001b[0;34m]\u001b[0m\u001b[0;34m,\u001b[0m \u001b[0mc\u001b[0m\u001b[0;34m=\u001b[0m\u001b[0mkmeans\u001b[0m\u001b[0;34m.\u001b[0m\u001b[0mpredict\u001b[0m\u001b[0;34m(\u001b[0m\u001b[0mX\u001b[0m\u001b[0;34m)\u001b[0m\u001b[0;34m)\u001b[0m\u001b[0;34m\u001b[0m\u001b[0m\n",
      "\u001b[0;32m<ipython-input-2-71b2cd2977e1>\u001b[0m in \u001b[0;36mfit\u001b[0;34m(self, X, y)\u001b[0m\n\u001b[1;32m     62\u001b[0m         \u001b[0mself\u001b[0m\u001b[0;34m.\u001b[0m\u001b[0mnew_centroids\u001b[0m \u001b[0;34m=\u001b[0m \u001b[0mnp\u001b[0m\u001b[0;34m.\u001b[0m\u001b[0mempty\u001b[0m\u001b[0;34m(\u001b[0m\u001b[0;34m(\u001b[0m\u001b[0mself\u001b[0m\u001b[0;34m.\u001b[0m\u001b[0mk\u001b[0m\u001b[0;34m,\u001b[0m \u001b[0mX\u001b[0m\u001b[0;34m.\u001b[0m\u001b[0mshape\u001b[0m\u001b[0;34m[\u001b[0m\u001b[0;36m1\u001b[0m\u001b[0;34m]\u001b[0m\u001b[0;34m)\u001b[0m\u001b[0;34m)\u001b[0m\u001b[0;34m\u001b[0m\u001b[0m\n\u001b[1;32m     63\u001b[0m \u001b[0;34m\u001b[0m\u001b[0m\n\u001b[0;32m---> 64\u001b[0;31m         \u001b[0mself\u001b[0m\u001b[0;34m.\u001b[0m\u001b[0minit_centroids\u001b[0m\u001b[0;34m(\u001b[0m\u001b[0mX\u001b[0m\u001b[0;34m)\u001b[0m\u001b[0;34m\u001b[0m\u001b[0m\n\u001b[0m\u001b[1;32m     65\u001b[0m \u001b[0;34m\u001b[0m\u001b[0m\n\u001b[1;32m     66\u001b[0m         \u001b[0meps\u001b[0m \u001b[0;34m=\u001b[0m \u001b[0;36m1\u001b[0m\u001b[0;34m\u001b[0m\u001b[0m\n",
      "\u001b[0;32m<ipython-input-2-71b2cd2977e1>\u001b[0m in \u001b[0;36minit_centroids\u001b[0;34m(self, X)\u001b[0m\n\u001b[1;32m     34\u001b[0m     \u001b[0;32mdef\u001b[0m \u001b[0minit_centroids\u001b[0m\u001b[0;34m(\u001b[0m\u001b[0mself\u001b[0m\u001b[0;34m,\u001b[0m \u001b[0mX\u001b[0m\u001b[0;34m)\u001b[0m\u001b[0;34m:\u001b[0m\u001b[0;34m\u001b[0m\u001b[0m\n\u001b[1;32m     35\u001b[0m         \u001b[0;32mif\u001b[0m \u001b[0mself\u001b[0m\u001b[0;34m.\u001b[0m\u001b[0minit\u001b[0m \u001b[0;34m==\u001b[0m \u001b[0;34m'random'\u001b[0m\u001b[0;34m:\u001b[0m\u001b[0;34m\u001b[0m\u001b[0m\n\u001b[0;32m---> 36\u001b[0;31m             \u001b[0;32mfor\u001b[0m \u001b[0mi\u001b[0m \u001b[0;32min\u001b[0m \u001b[0mxrange\u001b[0m\u001b[0;34m(\u001b[0m\u001b[0mself\u001b[0m\u001b[0;34m.\u001b[0m\u001b[0mk\u001b[0m\u001b[0;34m)\u001b[0m\u001b[0;34m:\u001b[0m\u001b[0;34m\u001b[0m\u001b[0m\n\u001b[0m\u001b[1;32m     37\u001b[0m                 \u001b[0mself\u001b[0m\u001b[0;34m.\u001b[0m\u001b[0mcentroids\u001b[0m\u001b[0;34m[\u001b[0m\u001b[0mi\u001b[0m\u001b[0;34m]\u001b[0m \u001b[0;34m=\u001b[0m \u001b[0mX\u001b[0m\u001b[0;34m[\u001b[0m\u001b[0mnp\u001b[0m\u001b[0;34m.\u001b[0m\u001b[0mrandom\u001b[0m\u001b[0;34m.\u001b[0m\u001b[0mrandint\u001b[0m\u001b[0;34m(\u001b[0m\u001b[0mX\u001b[0m\u001b[0;34m.\u001b[0m\u001b[0mshape\u001b[0m\u001b[0;34m[\u001b[0m\u001b[0;36m0\u001b[0m\u001b[0;34m]\u001b[0m\u001b[0;34m)\u001b[0m\u001b[0;34m]\u001b[0m\u001b[0;34m\u001b[0m\u001b[0m\n\u001b[1;32m     38\u001b[0m         \u001b[0;32melse\u001b[0m\u001b[0;34m:\u001b[0m\u001b[0;34m\u001b[0m\u001b[0m\n",
      "\u001b[0;31mNameError\u001b[0m: name 'xrange' is not defined"
     ]
    }
   ],
   "source": [
    "## Работоспособность KMeans\n",
    "kmeans = Kmeans(k = 3, random_state=2)\n",
    "kmeans.fit(X)\n",
    "\n",
    "plt.scatter(X[:,0], X[:, 1], c=kmeans.predict(X))\n",
    "plt.scatter(kmeans.centroids[:,0], kmeans.centroids[:,1])"
   ]
  },
  {
   "cell_type": "code",
   "execution_count": null,
   "metadata": {},
   "outputs": [],
   "source": [
    "## Работоспособность KMeans++\n",
    "kmeans_plus_plus = Kmeans(k = 3, init='k-means', random_state=2)\n",
    "kmeans_plus_plus.fit(X)\n",
    "\n",
    "plt.scatter(X[:,0], X[:, 1], c=kmeans_plus_plus.predict(X))\n",
    "plt.scatter(kmeans_plus_plus.centroids[:,0], kmeans_plus_plus.centroids[:,1])"
   ]
  },
  {
   "cell_type": "code",
   "execution_count": null,
   "metadata": {},
   "outputs": [],
   "source": [
    "## Работоспособность KMeans с MiniBatchKMeans\n",
    "kmeans_minibatch = MiniBatchKMeans(k = 3, random_state=2)\n",
    "kmeans_minibatch.fit(X)\n",
    "\n",
    "plt.scatter(X[:,0], X[:, 1], c=kmeans_minibatch.predict(X))\n",
    "plt.scatter(kmeans_minibatch.centroids[:,0], kmeans_minibatch.centroids[:,1])"
   ]
  },
  {
   "cell_type": "code",
   "execution_count": null,
   "metadata": {},
   "outputs": [],
   "source": [
    "## Работоспособность KMeans++ с MiniBatchKMeans\n",
    "kmeans_minibatch_plus_plus = MiniBatchKMeans(k = 3, init='k-means', random_state=2)\n",
    "kmeans_minibatch_plus_plus.fit(X)\n",
    "\n",
    "plt.scatter(X[:,0], X[:, 1], c=kmeans_minibatch_plus_plus.predict(X))\n",
    "plt.scatter(kmeans_minibatch_plus_plus.centroids[:,0], kmeans_minibatch_plus_plus.centroids[:,1])"
   ]
  },
  {
   "cell_type": "code",
   "execution_count": null,
   "metadata": {},
   "outputs": [],
   "source": [
    "n_points = 20\n",
    "\n",
    "t = np.empty(n_points)\n",
    "\n",
    "step_samples = 50\n",
    "\n",
    "min_samples = 50\n",
    "max_samples = n_points * step_samples"
   ]
  },
  {
   "cell_type": "code",
   "execution_count": null,
   "metadata": {},
   "outputs": [],
   "source": [
    "## Время выполнения алгоритма KMeans\n",
    "\n",
    "kmeans = Kmeans(k=3, random_state=4)\n",
    "\n",
    "for i in xrange(n_points):\n",
    "    X, y = make_blobs(n_samples=(i+1)*step_samples, n_features=2, centers=3, cluster_std=1, \n",
    "                      center_box=(-10.0, 10.0), shuffle=False, random_state=1234)\n",
    "    \n",
    "    time = %timeit -o kmeans.fit(X)\n",
    "   \n",
    "    t[i] = time.best\n",
    "\n",
    "plt.plot(np.arange(min_samples, max_samples+step_samples, step_samples), t)\n",
    "\n",
    "plt.xlabel('Number of samples')\n",
    "plt.ylabel('Time, seconds')\n",
    "\n",
    "plt.axis([min_samples, max_samples, min(t), max(t)])\n",
    "\n",
    "plt.show()"
   ]
  },
  {
   "cell_type": "code",
   "execution_count": null,
   "metadata": {},
   "outputs": [],
   "source": [
    "## Время выполнения алгоритма KMeans++\n",
    "\n",
    "kmeans_plus_plus = Kmeans(k = 3, random_state=4, init='k-means')\n",
    "\n",
    "for i in xrange(n_points):\n",
    "    X, y = make_blobs(n_samples=(i + 1)*step_samples, n_features=2, centers=3, cluster_std=1, \n",
    "                      center_box=(-10.0, 10.0), shuffle=False, random_state=1234)\n",
    "    \n",
    "    time = %timeit -o kmeans_plus_plus.fit(X)\n",
    "    \n",
    "    t[i] = time.best\n",
    "\n",
    "plt.plot(np.arange(min_samples, max_samples+step_samples, step_samples), t)\n",
    "\n",
    "plt.xlabel('Number of samples')\n",
    "plt.ylabel('Time, seconds')\n",
    "\n",
    "plt.axis([min_samples, max_samples, min(t), max(t)])\n",
    "\n",
    "plt.show()"
   ]
  },
  {
   "cell_type": "code",
   "execution_count": null,
   "metadata": {},
   "outputs": [],
   "source": [
    "## Время выполнения алгоритма KMeans с MiniBatchKMeans\n",
    "\n",
    "kmeans_minibatch = Kmeans(k = 3, random_state=4)\n",
    "\n",
    "for i in xrange(n_points):\n",
    "    X, y = make_blobs(n_samples=(i+1)*step_samples, n_features=2, centers=3, cluster_std=1, \n",
    "                      center_box=(-10.0, 10.0), shuffle=False, random_state=1234)\n",
    "    \n",
    "    time = %timeit -o kmeans_minibatch.fit(X)\n",
    "    \n",
    "    t[i] = time.best\n",
    "\n",
    "plt.plot(np.arange(min_samples, max_samples+step_samples, step_samples), t)\n",
    "\n",
    "plt.xlabel('Number of samples')\n",
    "plt.ylabel('Time, seconds')\n",
    "\n",
    "plt.axis([min_samples, max_samples, min(t), max(t)])\n",
    "\n",
    "plt.show()"
   ]
  },
  {
   "cell_type": "code",
   "execution_count": null,
   "metadata": {},
   "outputs": [],
   "source": [
    "## Время выполнения алгоритма  KMeans++ с MiniBatchKMeans\n",
    "\n",
    "kmeans_minibatch_plus_plus = Kmeans(k = 3, random_state=4, init='k-means')\n",
    "\n",
    "for i in xrange(n_points):\n",
    "    X, y = make_blobs(n_samples=(i + 1)*step_samples, n_features=2, centers=3, cluster_std=1, \n",
    "                      center_box=(-10.0, 10.0), shuffle=False, random_state=1234)\n",
    "    \n",
    "    time = %timeit -o kmeans_minibatch_plus_plus.fit(X)\n",
    "    \n",
    "    t[i] = time.best\n",
    "\n",
    "plt.plot(np.arange(min_samples, max_samples+step_samples, step_samples), t)\n",
    "\n",
    "plt.xlabel('Number of samples')\n",
    "plt.ylabel('Time, seconds')\n",
    "\n",
    "plt.axis([min_samples, max_samples, min(t), max(t)])\n",
    "\n",
    "plt.show()"
   ]
  },
  {
   "cell_type": "markdown",
   "metadata": {},
   "source": [
    "# Применение K-means на реальных данных"
   ]
  },
  {
   "cell_type": "markdown",
   "metadata": {},
   "source": [
    "Загрузите [данные](https://github.com/brenden17/sklearnlab/blob/master/facebook/snsdata.csv) в которых содержится описание интересов профилей учеников старшей школы США.  (без этого пункта задание не считается выполненным).   \n",
    "ВНИМАНИЕ! Проверка должна быть осуществлена на всех реализациях, иначе реализация не будет зачтена!"
   ]
  },
  {
   "cell_type": "code",
   "execution_count": null,
   "metadata": {},
   "outputs": [],
   "source": [
    "df_sns = pd.read_csv('snsdata.csv', sep=',')\n",
    "df_sns.head()"
   ]
  },
  {
   "cell_type": "code",
   "execution_count": null,
   "metadata": {},
   "outputs": [],
   "source": [
    "df_sns_cutted = df_sns.iloc[:,4:]\n",
    "\n",
    "df_sns_norm = (df_sns_cutted - df_sns_cutted.mean(axis=0)) / df_sns_cutted.std(axis=0)\n",
    "\n",
    "X = df_sns_norm.as_matrix()"
   ]
  },
  {
   "cell_type": "markdown",
   "metadata": {},
   "source": [
    "Данные устроены так: \n",
    "* Год выпуска\n",
    "* Пол\n",
    "* Возраст\n",
    "* Количество друзей\n",
    "* 36 ключевых слов, которые встречаются в профилe facebook (интересы, сообщества, встречи)"
   ]
  },
  {
   "cell_type": "markdown",
   "metadata": {},
   "source": [
    "* Удалите все признаки кроме 36 ключевых слов.\n",
    "* Нормализуйте данные - из каждого столбца вычтите его среднее значение и поделите на стандартное отклонение.\n",
    "* Используйте метод k-means чтобы выделить 9 кластеров\n",
    "* Попробуйте проинтерпретировать каждый кластер проанализировав полученные центройды (Некоторые кластеры могут быть очень большие и очень маленькие - плохо интерпретируются)   \n",
    "КОММЕНТАРИИ НЕ СТИРАТЬ!"
   ]
  },
  {
   "cell_type": "code",
   "execution_count": null,
   "metadata": {},
   "outputs": [],
   "source": [
    "## KMeans\n",
    "kmeans = Kmeans(k=9, random_state=4)\n",
    "kmeans.fit(X)\n",
    "\n",
    "df_sns.loc [:, 'Kmeans'] = kmeans.fit(X).predict(X)\n",
    "df_sns.groupby('Kmeans') ['age'].aggregate (['count']).join (df_sns.groupby('Kmeans').aggregate (['mean']))\n",
    "\n",
    "tb = df_sns.groupby('Kmeans') ['age'].aggregate (['count']).join (df_sns.groupby('Kmeans').aggregate (['mean']))\n",
    "\n",
    "for i in xrange(0, 9):\n",
    "    print \"Кластер: {}\".format(i)\n",
    "    \n",
    "    tb.iloc[i, 4:40].plot.bar()\n",
    "    plt.show()"
   ]
  },
  {
   "cell_type": "code",
   "execution_count": null,
   "metadata": {},
   "outputs": [],
   "source": [
    "## KMeans++\n",
    "kmeans_plus_plus = Kmeans(k = 9, random_state=4, init='k-means')\n",
    "\n",
    "df_sns.loc [:, 'Kmeans'] = kmeans.fit(X).predict(X)\n",
    "df_sns.groupby('Kmeans') ['age'].aggregate (['count']).join (df_sns.groupby('Kmeans').aggregate (['mean']))"
   ]
  },
  {
   "cell_type": "code",
   "execution_count": null,
   "metadata": {},
   "outputs": [],
   "source": [
    "## KMeans с MiniBatchKMeans\n",
    "kmeans_minibatch = MiniBatchKMeans(k = 9, random_state=4)\n",
    "\n",
    "df_sns.loc [:, 'Kmeans'] = kmeans_minibatch.fit(X).predict(X)\n",
    "df_sns.groupby('Kmeans') ['age'].aggregate (['count']).join (df_sns.groupby('Kmeans').aggregate (['mean']))"
   ]
  },
  {
   "cell_type": "code",
   "execution_count": null,
   "metadata": {},
   "outputs": [],
   "source": [
    "## KMeans++ с MiniBatchKMeans\n",
    "kmeans_minibatch_plus_plus = MiniBatchKMeans(k = 9, random_state=4, init='k-means')\n",
    "\n",
    "df_sns.loc [:, 'Kmeans'] = kmeans_minibatch_plus_plus.fit(X).predict(X)\n",
    "df_sns.groupby('Kmeans') ['age'].aggregate (['count']).join (df_sns.groupby('Kmeans').aggregate (['mean']))"
   ]
  },
  {
   "cell_type": "markdown",
   "metadata": {},
   "source": [
    "### Интерпретация кластеров:\n",
    "<p><br/>\n",
    "<b>Кластер 0</b>: любят спорт - бейсбол, футбол, баскетбол (baseball, football, basketball)\n",
    "<p>\n",
    "<b>Кластер 1</b>: следят за внешностью, любят музыку; общительны (hair, music, sex)\n",
    "<p>\n",
    "<b>Кластер 2</b>: любят музыку, футбол; религиозны (music, football, god, church)\n",
    "<p>\n",
    "<b>Кластер 3</b>: следят за внешностью (abercrombie)\n",
    "<p>\n",
    "<b>Кластер 4</b>: обыватели; увлекаются музыкой, танцами (cute, mall, music, dance)\n",
    "<p>\n",
    "<b>Кластер 5</b>: увлекаются музыкой, танцами; религиозны (music, dance, god)\n",
    "<p>\n",
    "<b>Кластер 6</b>: общительные (band)\n",
    "<p>\n",
    "<b>Кластер 7</b>: увлекаются футболом, шопингом (soccer, shopping)    \n",
    "<p>\n",
    "<b>Кластер 8</b>: любят спор - софтбол, волейбол, баскетбол (softball, volleyball, basketball)\n"
   ]
  },
  {
   "cell_type": "markdown",
   "metadata": {},
   "source": [
    "### Вывод\n",
    "\n",
    "Kmeans: случайно выбранные центры кластеров могут оказаться слишком близко друг к другу, что может привести к неверной кластеризации\n",
    "\n",
    "MiniBatch: выигрыш во времени, но при этом падает точность\n",
    "\n",
    "KMeans++: время кластеризации значительно растет по мере увеличения числа точек; безопасный выбор центров кластеров (в отличие от Kmeans)"
   ]
  },
  {
   "cell_type": "code",
   "execution_count": null,
   "metadata": {},
   "outputs": [],
   "source": []
  }
 ],
 "metadata": {
  "anaconda-cloud": {},
  "kernelspec": {
   "display_name": "Python 3",
   "language": "python",
   "name": "python3"
  },
  "language_info": {
   "codemirror_mode": {
    "name": "ipython",
    "version": 3
   },
   "file_extension": ".py",
   "mimetype": "text/x-python",
   "name": "python",
   "nbconvert_exporter": "python",
   "pygments_lexer": "ipython3",
   "version": "3.6.3"
  },
  "nav_menu": {},
  "toc": {
   "navigate_menu": true,
   "number_sections": false,
   "sideBar": true,
   "threshold": 6,
   "toc_cell": false,
   "toc_section_display": "block",
   "toc_window_display": true
  }
 },
 "nbformat": 4,
 "nbformat_minor": 2
}
