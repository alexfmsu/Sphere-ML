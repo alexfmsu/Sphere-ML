{
 "cells": [
  {
   "cell_type": "markdown",
   "metadata": {},
   "source": [
    "**Общая информация**\n",
    "\n",
    "**Срок сдачи:** 13 марта 2017, 06:00 <br\\>\n",
    "**Штраф за опоздание:** -2 балла после 06:00 13 марта, -4 балла после 06:00 20 марта, -6 баллов после 06:00 27 марта\n",
    "\n",
    "При отправлении ДЗ указывайте фамилию в названии файла\n",
    "Присылать ДЗ необходимо в виде ссылки на свой github репозиторий в slack @alkhamush\n",
    "\n",
    "Необходимо в slack создать таск в приватный чат:\n",
    "/todo Фамилия Имя ссылка на гитхаб @alkhamush\n",
    "Пример:\n",
    "/todo Ксения Стройкова https://github.com/stroykova/spheremailru/stroykova_hw1.ipynb @alkhamush\n",
    "\n",
    "Используйте данный Ipython Notebook при оформлении домашнего задания."
   ]
  },
  {
   "cell_type": "markdown",
   "metadata": {},
   "source": [
    "###### Задание 1 (2 баллов)\n",
    "Реализовать KNN в классе MyKNeighborsClassifier (обязательное условие: точность не ниже sklearn реализации)\n",
    "Разберитесь самостоятельно, какая мера расстояния используется в KNeighborsClassifier дефолтно и реализуйте свой алгоритм именно с этой мерой. Самостоятельно разберитесь, как считается score из KNeighborsClassifier и реализуйте аналог в своём классе.\n",
    "\n",
    "###### Задание 2 (2 балла)\n",
    "Добиться скорости работы на fit,  predict и predict_proba сравнимой со sklearn 4 балла для iris и mnist\n",
    "Для этого используем numpy\n",
    "\n",
    "###### Задание 3 (2 балла)\n",
    "Для iris найдите такой параметр n_neighbors, при котором выдаётся наилучший score. Нарисуйте график зависимости score от n_neighbors\n",
    "\n",
    "###### Задание 3 (2 балла)\n",
    "Выполнить требования pep8\n",
    "\n",
    "###### Задание 5 (2 балла)\n",
    "Описать для чего нужны следующие библиотеки/классы/функции (список будет ниже)\n"
   ]
  },
  {
   "cell_type": "code",
   "execution_count": 1,
   "metadata": {},
   "outputs": [],
   "source": [
    "#%%pycodestyle\n",
    "import numpy as np\n",
    "import matplotlib.pyplot as plt\n",
    "import seaborn as sns\n",
    "from sklearn import datasets\n",
    "from sklearn.base import ClassifierMixin\n",
    "from sklearn.datasets import fetch_mldata\n",
    "from sklearn.neighbors.base import NeighborsBase\n",
    "from sklearn.neighbors.base import KNeighborsMixin\n",
    "from sklearn.neighbors.base import SupervisedIntegerMixin\n",
    "from sklearn.model_selection import train_test_split\n",
    "from sklearn.neighbors import KNeighborsClassifier\n",
    "from scipy.spatial.distance import cdist\n",
    "\n",
    "%load_ext pycodestyle_magic"
   ]
  },
  {
   "cell_type": "code",
   "execution_count": 2,
   "metadata": {},
   "outputs": [],
   "source": [
    "#%%pycodestyle\n",
    "\n",
    "\n",
    "class MyKNeighborsClassifier(NeighborsBase, KNeighborsMixin,\n",
    "                             SupervisedIntegerMixin, ClassifierMixin):\n",
    "\n",
    "    def __init__(self, n_neighbors):\n",
    "        self.n_neighbors = n_neighbors\n",
    "\n",
    "    def fit(self, X, y):\n",
    "        self.X = np.float64(X.copy())\n",
    "        self.classes, self.y = np.unique(y, return_inverse=True)\n",
    "\n",
    "    def predict_classes(self, dist):\n",
    "        x_sorted_ind = np.argsort(dist, axis=0)\n",
    "        x_kn_ind = x_sorted_ind[0:self.n_neighbors, :]\n",
    "\n",
    "        return self.classes[self.y[x_kn_ind]].T\n",
    "\n",
    "    @staticmethod\n",
    "    def distance(X1, X2):\n",
    "        return np.sqrt(((X1 - X2) ** 2).sum(axis=1))\n",
    "\n",
    "    def predict_proba(self, X):\n",
    "        dist = cdist(self.X, X)\n",
    "        # or user distance\n",
    "        # dist = np.transpose([self.distance(i, self.X) for i in X])\n",
    "\n",
    "        pred_classes = self.predict_classes(dist)\n",
    "        \n",
    "        counts_rows = pred_classes.shape[0]\n",
    "        counts_cols = self.classes.shape[0]\n",
    "        \n",
    "        counts = np.zeros((counts_rows, counts_cols), dtype=int)\n",
    "\n",
    "        i = 0\n",
    "        for row in pred_classes:\n",
    "            uniq, cnts = np.unique(row, return_counts=1)\n",
    "            counts[i][uniq.astype(np.int)] = cnts\n",
    "            i += 1\n",
    "\n",
    "        return counts / self.n_neighbors\n",
    "\n",
    "    def predict(self, X):\n",
    "        proba = self.predict_proba(X)\n",
    "\n",
    "        return self.classes[np.argsort(proba, axis=1)[:, -1:]].ravel()\n",
    "\n",
    "    def score(self, X, y):\n",
    "        diff = np.count_nonzero(y - self.predict(X))\n",
    "\n",
    "        return 1 - diff / y.shape[0]\n"
   ]
  },
  {
   "cell_type": "markdown",
   "metadata": {},
   "source": [
    "**IRIS**"
   ]
  },
  {
   "cell_type": "code",
   "execution_count": 3,
   "metadata": {},
   "outputs": [],
   "source": [
    "iris = datasets.load_iris()"
   ]
  },
  {
   "cell_type": "code",
   "execution_count": 4,
   "metadata": {},
   "outputs": [],
   "source": [
    "X_train, X_test, y_train, y_test = train_test_split(iris.data, iris.target, test_size=0.1, stratify=iris.target)"
   ]
  },
  {
   "cell_type": "code",
   "execution_count": 5,
   "metadata": {},
   "outputs": [],
   "source": [
    "clf = KNeighborsClassifier(n_neighbors=2)\n",
    "my_clf = MyKNeighborsClassifier(n_neighbors=2)"
   ]
  },
  {
   "cell_type": "code",
   "execution_count": 6,
   "metadata": {},
   "outputs": [
    {
     "name": "stdout",
     "output_type": "stream",
     "text": [
      "CPU times: user 579 µs, sys: 3.54 ms, total: 4.12 ms\n",
      "Wall time: 4.71 ms\n"
     ]
    },
    {
     "data": {
      "text/plain": [
       "KNeighborsClassifier(algorithm='auto', leaf_size=30, metric='minkowski',\n",
       "           metric_params=None, n_jobs=1, n_neighbors=2, p=2,\n",
       "           weights='uniform')"
      ]
     },
     "execution_count": 6,
     "metadata": {},
     "output_type": "execute_result"
    }
   ],
   "source": [
    "%time clf.fit(X_train, y_train)"
   ]
  },
  {
   "cell_type": "code",
   "execution_count": 7,
   "metadata": {},
   "outputs": [
    {
     "name": "stdout",
     "output_type": "stream",
     "text": [
      "CPU times: user 1.12 ms, sys: 138 µs, total: 1.26 ms\n",
      "Wall time: 1.45 ms\n"
     ]
    }
   ],
   "source": [
    "%time my_clf.fit(X_train, y_train)"
   ]
  },
  {
   "cell_type": "code",
   "execution_count": 8,
   "metadata": {},
   "outputs": [
    {
     "name": "stdout",
     "output_type": "stream",
     "text": [
      "CPU times: user 2.44 ms, sys: 304 µs, total: 2.75 ms\n",
      "Wall time: 2.91 ms\n"
     ]
    },
    {
     "data": {
      "text/plain": [
       "array([0, 1, 1, 0, 0, 2, 2, 0, 1, 1, 2, 0, 1, 2, 2])"
      ]
     },
     "execution_count": 8,
     "metadata": {},
     "output_type": "execute_result"
    }
   ],
   "source": [
    "%time clf.predict(X_test)"
   ]
  },
  {
   "cell_type": "code",
   "execution_count": 9,
   "metadata": {},
   "outputs": [
    {
     "name": "stdout",
     "output_type": "stream",
     "text": [
      "CPU times: user 3.22 ms, sys: 0 ns, total: 3.22 ms\n",
      "Wall time: 5.79 ms\n"
     ]
    },
    {
     "data": {
      "text/plain": [
       "array([0, 1, 1, 0, 0, 2, 2, 0, 1, 1, 2, 0, 1, 2, 2])"
      ]
     },
     "execution_count": 9,
     "metadata": {},
     "output_type": "execute_result"
    }
   ],
   "source": [
    "%time my_clf.predict(X_test)"
   ]
  },
  {
   "cell_type": "code",
   "execution_count": 10,
   "metadata": {},
   "outputs": [
    {
     "name": "stdout",
     "output_type": "stream",
     "text": [
      "CPU times: user 2.36 ms, sys: 0 ns, total: 2.36 ms\n",
      "Wall time: 2.47 ms\n"
     ]
    },
    {
     "data": {
      "text/plain": [
       "array([[1., 0., 0.],\n",
       "       [0., 1., 0.],\n",
       "       [0., 1., 0.],\n",
       "       [1., 0., 0.],\n",
       "       [1., 0., 0.],\n",
       "       [0., 0., 1.],\n",
       "       [0., 0., 1.],\n",
       "       [1., 0., 0.],\n",
       "       [0., 1., 0.],\n",
       "       [0., 1., 0.],\n",
       "       [0., 0., 1.],\n",
       "       [1., 0., 0.],\n",
       "       [0., 1., 0.],\n",
       "       [0., 0., 1.],\n",
       "       [0., 0., 1.]])"
      ]
     },
     "execution_count": 10,
     "metadata": {},
     "output_type": "execute_result"
    }
   ],
   "source": [
    "%time clf.predict_proba(X_test)"
   ]
  },
  {
   "cell_type": "code",
   "execution_count": 11,
   "metadata": {},
   "outputs": [
    {
     "name": "stdout",
     "output_type": "stream",
     "text": [
      "CPU times: user 2.98 ms, sys: 0 ns, total: 2.98 ms\n",
      "Wall time: 3.13 ms\n"
     ]
    },
    {
     "data": {
      "text/plain": [
       "array([[1., 0., 0.],\n",
       "       [0., 1., 0.],\n",
       "       [0., 1., 0.],\n",
       "       [1., 0., 0.],\n",
       "       [1., 0., 0.],\n",
       "       [0., 0., 1.],\n",
       "       [0., 0., 1.],\n",
       "       [1., 0., 0.],\n",
       "       [0., 1., 0.],\n",
       "       [0., 1., 0.],\n",
       "       [0., 0., 1.],\n",
       "       [1., 0., 0.],\n",
       "       [0., 1., 0.],\n",
       "       [0., 0., 1.],\n",
       "       [0., 0., 1.]])"
      ]
     },
     "execution_count": 11,
     "metadata": {},
     "output_type": "execute_result"
    }
   ],
   "source": [
    "%time my_clf.predict_proba(X_test)"
   ]
  },
  {
   "cell_type": "code",
   "execution_count": 12,
   "metadata": {},
   "outputs": [
    {
     "data": {
      "text/plain": [
       "1.0"
      ]
     },
     "execution_count": 12,
     "metadata": {},
     "output_type": "execute_result"
    }
   ],
   "source": [
    "clf.score(X_test, y_test)"
   ]
  },
  {
   "cell_type": "code",
   "execution_count": 13,
   "metadata": {},
   "outputs": [
    {
     "data": {
      "text/plain": [
       "1.0"
      ]
     },
     "execution_count": 13,
     "metadata": {},
     "output_type": "execute_result"
    }
   ],
   "source": [
    "my_clf.score(X_test, y_test)"
   ]
  },
  {
   "cell_type": "code",
   "execution_count": 14,
   "metadata": {},
   "outputs": [
    {
     "data": {
      "image/png": "[encoded data removed]",
      "text/plain": [
       "<Figure size 432x288 with 1 Axes>"
      ]
     },
     "metadata": {},
     "output_type": "display_data"
    },
    {
     "name": "stdout",
     "output_type": "stream",
     "text": [
      "Best score: 0.979 at n = 14\n"
     ]
    }
   ],
   "source": [
    "# Задание 3\n",
    "max_neighbors = 25\n",
    "n_trials = 100\n",
    "\n",
    "score = np.zeros(n_trials)\n",
    "score_means = np.zeros(max_neighbors)\n",
    "\n",
    "for n in range(1, max_neighbors+1):\n",
    "    for i in range(n_trials):\n",
    "        X_train, X_test, y_train, y_test = train_test_split(iris.data, iris.target, test_size=0.1, stratify=iris.target)\n",
    "        \n",
    "        my_clf = MyKNeighborsClassifier(n_neighbors=n)\n",
    "        my_clf.fit(X_train, y_train)\n",
    "        \n",
    "        score[i] = my_clf.score(X_test, y_test)\n",
    "        \n",
    "    score_means[n-1] = score.mean()\n",
    "\n",
    "plt.plot(range(1, max_neighbors+1), score_means, marker='o')\n",
    "plt.show()\n",
    "\n",
    "print(\"Best score:\", np.round(np.max(score_means), 3), \"at n =\", np.argmax(score_means))"
   ]
  },
  {
   "cell_type": "markdown",
   "metadata": {},
   "source": [
    "**MNIST**"
   ]
  },
  {
   "cell_type": "code",
   "execution_count": 15,
   "metadata": {},
   "outputs": [],
   "source": [
    "mnist = fetch_mldata('MNIST original')"
   ]
  },
  {
   "cell_type": "code",
   "execution_count": 16,
   "metadata": {},
   "outputs": [],
   "source": [
    "X_train, X_test, y_train, y_test = train_test_split(mnist.data, mnist.target, test_size=0.01, stratify=mnist.target)"
   ]
  },
  {
   "cell_type": "code",
   "execution_count": 17,
   "metadata": {},
   "outputs": [],
   "source": [
    "clf = KNeighborsClassifier(n_neighbors=2)\n",
    "my_clf = MyKNeighborsClassifier(n_neighbors=2)"
   ]
  },
  {
   "cell_type": "code",
   "execution_count": 18,
   "metadata": {},
   "outputs": [
    {
     "name": "stdout",
     "output_type": "stream",
     "text": [
      "CPU times: user 3min 2s, sys: 1.55 s, total: 3min 4s\n",
      "Wall time: 3min 5s\n"
     ]
    },
    {
     "data": {
      "text/plain": [
       "KNeighborsClassifier(algorithm='auto', leaf_size=30, metric='minkowski',\n",
       "           metric_params=None, n_jobs=1, n_neighbors=2, p=2,\n",
       "           weights='uniform')"
      ]
     },
     "execution_count": 18,
     "metadata": {},
     "output_type": "execute_result"
    }
   ],
   "source": [
    "%time clf.fit(X_train, y_train)"
   ]
  },
  {
   "cell_type": "code",
   "execution_count": 19,
   "metadata": {},
   "outputs": [
    {
     "name": "stdout",
     "output_type": "stream",
     "text": [
      "CPU times: user 180 ms, sys: 360 ms, total: 540 ms\n",
      "Wall time: 543 ms\n"
     ]
    }
   ],
   "source": [
    "%time my_clf.fit(X_train, y_train)"
   ]
  },
  {
   "cell_type": "code",
   "execution_count": 20,
   "metadata": {},
   "outputs": [
    {
     "name": "stdout",
     "output_type": "stream",
     "text": [
      "CPU times: user 3min 34s, sys: 304 ms, total: 3min 34s\n",
      "Wall time: 3min 35s\n"
     ]
    },
    {
     "data": {
      "text/plain": [
       "array([5., 5., 8., 8., 1., 2., 1., 8., 5., 8., 8., 4., 5., 8., 8., 6., 1.,\n",
       "       8., 6., 0., 0., 1., 3., 4., 5., 1., 1., 7., 9., 1., 7., 9., 2., 0.,\n",
       "       9., 5., 3., 3., 7., 6., 1., 0., 5., 1., 7., 7., 8., 5., 9., 2., 1.,\n",
       "       9., 5., 7., 0., 4., 6., 3., 0., 8., 9., 1., 1., 6., 5., 7., 3., 8.,\n",
       "       2., 1., 9., 4., 0., 6., 6., 6., 2., 9., 2., 3., 8., 4., 7., 7., 1.,\n",
       "       1., 3., 9., 0., 1., 8., 5., 9., 3., 6., 7., 2., 0., 6., 5., 4., 7.,\n",
       "       0., 4., 3., 7., 6., 5., 4., 6., 1., 6., 1., 6., 4., 3., 9., 9., 8.,\n",
       "       7., 3., 8., 8., 0., 3., 7., 3., 5., 7., 1., 3., 0., 9., 0., 3., 2.,\n",
       "       8., 2., 1., 5., 5., 3., 9., 3., 5., 2., 4., 0., 3., 4., 7., 6., 9.,\n",
       "       3., 3., 4., 7., 4., 4., 2., 5., 8., 4., 6., 6., 9., 4., 2., 3., 9.,\n",
       "       4., 0., 6., 6., 4., 4., 8., 3., 1., 2., 8., 5., 1., 9., 0., 6., 7.,\n",
       "       1., 2., 3., 9., 8., 8., 2., 7., 8., 8., 5., 4., 7., 4., 1., 7., 1.,\n",
       "       4., 6., 1., 6., 7., 2., 0., 7., 0., 6., 9., 1., 1., 6., 7., 8., 3.,\n",
       "       4., 6., 9., 0., 7., 8., 4., 0., 2., 5., 0., 7., 9., 7., 4., 3., 9.,\n",
       "       6., 8., 9., 0., 5., 3., 1., 8., 1., 0., 6., 3., 8., 7., 3., 7., 1.,\n",
       "       4., 0., 3., 5., 5., 3., 7., 7., 6., 0., 2., 7., 0., 3., 5., 2., 6.,\n",
       "       6., 5., 1., 2., 2., 9., 0., 9., 7., 5., 4., 7., 6., 6., 1., 2., 7.,\n",
       "       1., 0., 2., 1., 6., 6., 2., 3., 0., 1., 5., 5., 9., 9., 6., 5., 5.,\n",
       "       0., 1., 7., 8., 7., 1., 0., 7., 2., 4., 3., 9., 4., 4., 2., 1., 9.,\n",
       "       7., 2., 3., 2., 9., 6., 2., 4., 8., 9., 2., 6., 7., 0., 3., 5., 3.,\n",
       "       9., 0., 8., 3., 3., 2., 4., 0., 8., 9., 0., 1., 8., 5., 3., 2., 4.,\n",
       "       5., 2., 9., 0., 2., 5., 0., 0., 2., 9., 7., 8., 3., 9., 4., 5., 5.,\n",
       "       6., 3., 6., 3., 2., 7., 5., 9., 1., 7., 2., 0., 3., 9., 3., 2., 6.,\n",
       "       9., 1., 0., 1., 1., 3., 6., 7., 6., 1., 6., 3., 0., 5., 9., 2., 8.,\n",
       "       1., 3., 3., 5., 2., 4., 7., 4., 7., 8., 5., 9., 0., 2., 9., 7., 1.,\n",
       "       0., 6., 7., 2., 5., 8., 6., 0., 4., 5., 9., 1., 6., 6., 9., 7., 6.,\n",
       "       2., 8., 1., 4., 2., 7., 4., 1., 2., 4., 2., 4., 9., 3., 8., 8., 5.,\n",
       "       0., 1., 9., 0., 1., 9., 1., 2., 7., 0., 2., 7., 8., 1., 9., 6., 3.,\n",
       "       9., 5., 4., 7., 7., 3., 3., 6., 7., 1., 7., 2., 3., 4., 6., 1., 5.,\n",
       "       0., 2., 6., 6., 9., 5., 9., 0., 7., 3., 0., 8., 2., 6., 9., 3., 1.,\n",
       "       0., 9., 3., 1., 5., 1., 1., 4., 4., 2., 5., 7., 6., 5., 4., 2., 8.,\n",
       "       3., 1., 5., 4., 8., 9., 4., 4., 3., 7., 7., 9., 0., 0., 1., 5., 0.,\n",
       "       9., 4., 8., 4., 4., 3., 0., 2., 0., 8., 0., 3., 2., 2., 8., 9., 2.,\n",
       "       0., 4., 4., 2., 4., 4., 1., 5., 5., 7., 3., 6., 4., 3., 6., 5., 9.,\n",
       "       9., 9., 1., 3., 1., 1., 0., 0., 9., 7., 8., 4., 3., 6., 4., 4., 1.,\n",
       "       8., 6., 2., 7., 7., 4., 2., 3., 2., 1., 3., 8., 7., 3., 4., 0., 9.,\n",
       "       7., 9., 6., 1., 1., 0., 0., 4., 7., 5., 8., 1., 2., 4., 9., 3., 9.,\n",
       "       0., 3., 8., 6., 4., 2., 3., 6., 1., 4., 4., 2., 5., 4., 4., 5., 7.,\n",
       "       1., 6., 2., 2., 0., 2., 8., 9., 7., 1., 7., 7., 8., 6., 0., 1., 1.,\n",
       "       2., 8., 8., 0., 4., 0., 3., 7., 7., 6., 6., 5., 6., 1., 9., 3., 6.,\n",
       "       0., 5., 2., 9., 0., 1., 1., 0., 1., 8., 7., 0., 3., 8., 8., 2., 3.,\n",
       "       8., 5., 1.])"
      ]
     },
     "execution_count": 20,
     "metadata": {},
     "output_type": "execute_result"
    }
   ],
   "source": [
    "%time clf.predict(X_test)"
   ]
  },
  {
   "cell_type": "code",
   "execution_count": 21,
   "metadata": {},
   "outputs": [
    {
     "name": "stdout",
     "output_type": "stream",
     "text": [
      "CPU times: user 2min 1s, sys: 1.66 s, total: 2min 3s\n",
      "Wall time: 2min 4s\n"
     ]
    },
    {
     "data": {
      "text/plain": [
       "array([5., 5., 8., 8., 1., 2., 1., 8., 5., 8., 8., 4., 5., 8., 8., 6., 1.,\n",
       "       8., 6., 0., 0., 1., 3., 4., 5., 1., 1., 7., 9., 1., 7., 9., 2., 0.,\n",
       "       9., 5., 3., 3., 7., 6., 1., 0., 5., 1., 7., 7., 8., 5., 9., 2., 1.,\n",
       "       9., 5., 7., 0., 4., 6., 3., 0., 8., 9., 1., 1., 6., 6., 7., 3., 8.,\n",
       "       2., 1., 9., 4., 0., 6., 6., 6., 2., 9., 2., 3., 8., 4., 7., 7., 1.,\n",
       "       1., 3., 9., 0., 1., 8., 5., 9., 3., 6., 7., 8., 0., 6., 5., 4., 7.,\n",
       "       0., 4., 3., 7., 6., 8., 4., 6., 1., 6., 1., 6., 4., 3., 9., 9., 8.,\n",
       "       7., 3., 8., 8., 0., 3., 7., 3., 5., 7., 1., 8., 0., 9., 0., 3., 2.,\n",
       "       8., 2., 1., 5., 5., 3., 9., 8., 5., 2., 4., 0., 3., 4., 7., 6., 9.,\n",
       "       3., 3., 4., 7., 4., 4., 2., 5., 8., 4., 6., 6., 9., 4., 2., 3., 9.,\n",
       "       4., 0., 6., 6., 4., 4., 9., 3., 1., 2., 8., 5., 1., 9., 0., 6., 7.,\n",
       "       1., 2., 3., 9., 8., 8., 2., 7., 8., 8., 5., 9., 7., 4., 1., 7., 1.,\n",
       "       4., 6., 1., 6., 7., 2., 0., 7., 0., 6., 9., 1., 1., 6., 7., 8., 3.,\n",
       "       4., 6., 9., 0., 7., 8., 4., 0., 2., 5., 0., 7., 9., 7., 4., 3., 9.,\n",
       "       6., 8., 9., 0., 6., 3., 1., 8., 1., 0., 6., 3., 8., 7., 3., 7., 1.,\n",
       "       4., 0., 3., 5., 5., 3., 7., 7., 8., 0., 2., 7., 0., 3., 5., 2., 6.,\n",
       "       6., 5., 1., 2., 2., 9., 0., 9., 7., 5., 9., 7., 6., 6., 1., 2., 7.,\n",
       "       1., 0., 2., 1., 6., 6., 2., 3., 0., 1., 5., 5., 9., 9., 6., 5., 5.,\n",
       "       0., 1., 7., 8., 7., 1., 0., 7., 2., 4., 3., 9., 4., 4., 2., 1., 9.,\n",
       "       7., 2., 3., 2., 9., 6., 2., 6., 8., 9., 2., 6., 7., 0., 3., 5., 3.,\n",
       "       9., 0., 8., 3., 3., 2., 9., 0., 8., 9., 2., 1., 8., 5., 3., 2., 4.,\n",
       "       5., 2., 9., 0., 2., 5., 0., 0., 2., 9., 7., 8., 3., 9., 4., 5., 5.,\n",
       "       6., 3., 6., 3., 2., 7., 5., 9., 1., 7., 2., 5., 8., 9., 3., 2., 6.,\n",
       "       9., 1., 0., 1., 1., 3., 6., 7., 6., 1., 6., 3., 0., 5., 9., 2., 8.,\n",
       "       1., 7., 3., 5., 2., 4., 7., 4., 7., 8., 5., 9., 0., 2., 9., 7., 1.,\n",
       "       0., 6., 7., 2., 5., 8., 6., 0., 4., 5., 9., 1., 6., 6., 9., 7., 6.,\n",
       "       2., 8., 1., 4., 2., 7., 4., 1., 2., 4., 2., 9., 9., 3., 8., 8., 5.,\n",
       "       0., 1., 9., 0., 1., 9., 5., 2., 7., 0., 2., 7., 8., 1., 9., 6., 3.,\n",
       "       9., 5., 4., 7., 7., 3., 3., 8., 7., 1., 7., 2., 3., 4., 6., 1., 5.,\n",
       "       0., 2., 6., 6., 9., 5., 9., 0., 7., 3., 0., 8., 2., 6., 9., 8., 1.,\n",
       "       0., 9., 3., 1., 5., 1., 1., 4., 4., 2., 5., 7., 6., 5., 4., 2., 8.,\n",
       "       3., 1., 5., 4., 8., 9., 4., 4., 3., 7., 7., 9., 0., 0., 1., 5., 0.,\n",
       "       9., 4., 8., 4., 4., 3., 0., 2., 0., 8., 6., 3., 2., 2., 8., 9., 2.,\n",
       "       0., 4., 4., 2., 4., 4., 7., 5., 5., 7., 3., 6., 4., 3., 6., 5., 9.,\n",
       "       9., 9., 1., 3., 1., 1., 0., 0., 9., 7., 8., 4., 3., 6., 4., 4., 1.,\n",
       "       8., 6., 2., 7., 7., 7., 2., 5., 2., 1., 3., 8., 7., 3., 4., 0., 9.,\n",
       "       7., 9., 6., 1., 1., 0., 0., 4., 7., 5., 8., 1., 2., 4., 9., 5., 9.,\n",
       "       0., 3., 8., 6., 4., 2., 3., 6., 1., 4., 4., 2., 5., 4., 4., 5., 7.,\n",
       "       1., 6., 2., 2., 0., 2., 8., 9., 7., 1., 7., 7., 8., 6., 0., 1., 1.,\n",
       "       2., 8., 8., 0., 4., 0., 3., 7., 7., 6., 6., 5., 6., 1., 9., 3., 6.,\n",
       "       0., 5., 2., 9., 0., 1., 1., 0., 1., 8., 7., 0., 3., 8., 8., 2., 3.,\n",
       "       8., 5., 1.])"
      ]
     },
     "execution_count": 21,
     "metadata": {},
     "output_type": "execute_result"
    }
   ],
   "source": [
    "%time my_clf.predict(X_test)"
   ]
  },
  {
   "cell_type": "code",
   "execution_count": 22,
   "metadata": {},
   "outputs": [
    {
     "name": "stdout",
     "output_type": "stream",
     "text": [
      "CPU times: user 3min 36s, sys: 256 ms, total: 3min 36s\n",
      "Wall time: 3min 37s\n"
     ]
    },
    {
     "data": {
      "text/plain": [
       "array([[0., 0., 0., ..., 0., 0., 0.],\n",
       "       [0., 0., 0., ..., 0., 0., 0.],\n",
       "       [0., 0., 0., ..., 0., 1., 0.],\n",
       "       ...,\n",
       "       [0., 0., 0., ..., 0., 1., 0.],\n",
       "       [0., 0., 0., ..., 0., 0., 0.],\n",
       "       [0., 1., 0., ..., 0., 0., 0.]])"
      ]
     },
     "execution_count": 22,
     "metadata": {},
     "output_type": "execute_result"
    }
   ],
   "source": [
    "%time clf.predict_proba(X_test)"
   ]
  },
  {
   "cell_type": "code",
   "execution_count": 23,
   "metadata": {},
   "outputs": [
    {
     "name": "stdout",
     "output_type": "stream",
     "text": [
      "CPU times: user 1min 57s, sys: 1.7 s, total: 1min 59s\n",
      "Wall time: 2min\n"
     ]
    },
    {
     "data": {
      "text/plain": [
       "array([[0., 0., 0., ..., 0., 0., 0.],\n",
       "       [0., 0., 0., ..., 0., 0., 0.],\n",
       "       [0., 0., 0., ..., 0., 1., 0.],\n",
       "       ...,\n",
       "       [0., 0., 0., ..., 0., 1., 0.],\n",
       "       [0., 0., 0., ..., 0., 0., 0.],\n",
       "       [0., 1., 0., ..., 0., 0., 0.]])"
      ]
     },
     "execution_count": 23,
     "metadata": {},
     "output_type": "execute_result"
    }
   ],
   "source": [
    "%time my_clf.predict_proba(X_test)"
   ]
  },
  {
   "cell_type": "code",
   "execution_count": 24,
   "metadata": {},
   "outputs": [
    {
     "data": {
      "text/plain": [
       "0.9642857142857143"
      ]
     },
     "execution_count": 24,
     "metadata": {},
     "output_type": "execute_result"
    }
   ],
   "source": [
    "clf.score(X_test, y_test)"
   ]
  },
  {
   "cell_type": "code",
   "execution_count": 25,
   "metadata": {},
   "outputs": [
    {
     "data": {
      "text/plain": [
       "0.9714285714285714"
      ]
     },
     "execution_count": 25,
     "metadata": {},
     "output_type": "execute_result"
    }
   ],
   "source": [
    "my_clf.score(X_test, y_test)"
   ]
  },
  {
   "cell_type": "markdown",
   "metadata": {},
   "source": [
    "Задание 5"
   ]
  },
  {
   "cell_type": "code",
   "execution_count": 26,
   "metadata": {},
   "outputs": [],
   "source": [
    "# seaborn - обёртка над matplotlib; \n",
    "#           улучшена в плане дизайна;\n",
    "#           оптимизирована для визуализации статистических моделей;\n",
    "# matplotlib - библиотека для визуализации и построения графиков;\n",
    "# train_test_split - разбивает данные на обучающую/тестовую выборки в заданном отношении;\n",
    "# Pipelin%load_ext e (from sklearn.pipeline import Pipeline) - позволяет объединить последовательность \n",
    "#           действий (конвейер)\n",
    "# StandardScaler (from sklearn.preprocessing import StandardScaler) - масштабируюшая нормализация:\n",
    "#           из каждого признака вычитается его среднее и делится на стандартное отклонение\n",
    "# ClassifierMixin - базовый класс классификаторов\n",
    "# NeighborsBase - базовый класс KNN\n",
    "# KNeighborsMixin - класс KNN;\n",
    "#                   содержит функции kneighbors (поиск k ближайших соседей) и \n",
    "#                   kneighbors_graph (матрица связей)\n",
    "# SupervisedIntegerMixin - класс, содержащий метод fit, позволяющий обучить классификатор;"
   ]
  },
  {
   "cell_type": "code",
   "execution_count": 27,
   "metadata": {},
   "outputs": [],
   "source": [
    "# EOF"
   ]
  }
 ],
 "metadata": {
  "kernelspec": {
   "display_name": "Python 3",
   "language": "python",
   "name": "python3"
  },
  "language_info": {
   "codemirror_mode": {
    "name": "ipython",
    "version": 3
   },
   "file_extension": ".py",
   "mimetype": "text/x-python",
   "name": "python",
   "nbconvert_exporter": "python",
   "pygments_lexer": "ipython3",
   "version": "3.6.3"
  }
 },
 "nbformat": 4,
 "nbformat_minor": 2
}
